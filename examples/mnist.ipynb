{
 "cells": [
  {
   "cell_type": "markdown",
   "id": "ca19800c",
   "metadata": {},
   "source": [
    "## We will solve the classic MNIST Problem with a neural network built using QuarkNet library."
   ]
  },
  {
   "cell_type": "code",
   "execution_count": null,
   "id": "0bcaf154",
   "metadata": {},
   "outputs": [],
   "source": [
    "import numpy as np\n",
    "from quarknet.nn import NeuralNet\n",
    "from quarknet.layers import Linear\n",
    "from quarknet.activations import ReLU\n",
    "from quarknet.loss import MSE\n",
    "from quarknet.optim import SGD"
   ]
  },
  {
   "cell_type": "code",
   "execution_count": 40,
   "id": "4c21dfe7",
   "metadata": {},
   "outputs": [
    {
     "name": "stdout",
     "output_type": "stream",
     "text": [
      "inputs: \n",
      " [[0. 0. 0. ... 0. 0. 0.]\n",
      " [0. 0. 0. ... 0. 0. 0.]\n",
      " [0. 0. 0. ... 0. 0. 0.]]\n",
      "targets: \n",
      " [5 0 4]\n",
      "targets: \n",
      " [[0. 0. 0. 0. 0. 1. 0. 0. 0. 0.]\n",
      " [1. 0. 0. 0. 0. 0. 0. 0. 0. 0.]\n",
      " [0. 0. 0. 0. 1. 0. 0. 0. 0. 0.]]\n"
     ]
    }
   ],
   "source": [
    "# We will use tensorflow just to load the dataset. We will not use tensorflow for anything else\n",
    "from tensorflow.keras.datasets import mnist\n",
    "\n",
    "# Load data\n",
    "(x_train, y_train), (x_test, y_test) = mnist.load_data()\n",
    "\n",
    "\n",
    "# Normalize to [0, 1]\n",
    "x_train = x_train.astype(np.float32) / 255.0\n",
    "x_test = x_test.astype(np.float32) / 255.0\n",
    "\n",
    "# Flatten from 28x28 → 784\n",
    "x_train = x_train.reshape(-1, 28 * 28)\n",
    "x_test = x_test.reshape(-1, 28 * 28)\n",
    "\n",
    "print(\"inputs: \\n\", x_train[:3])\n",
    "print(\"targets: \\n\", y_train[:3])\n",
    "\n",
    "# One-hot encode labels\n",
    "num_classes = 10\n",
    "y_train = np.eye(num_classes)[y_train]\n",
    "y_test = np.eye(num_classes)[y_test]\n",
    "\n",
    "print(\"targets: \\n\", y_train[:3])"
   ]
  },
  {
   "cell_type": "code",
   "execution_count": null,
   "id": "59d36e5f",
   "metadata": {},
   "outputs": [],
   "source": [
    "model = NeuralNet(\n",
    "    [\n",
    "        Linear(input_size=784, output_size=128),\n",
    "        ReLU(),\n",
    "        Linear(input_size=128, output_size=10),\n",
    "    ]\n",
    ")"
   ]
  },
  {
   "cell_type": "code",
   "execution_count": 60,
   "id": "e84e4a39",
   "metadata": {},
   "outputs": [
    {
     "name": "stdout",
     "output_type": "stream",
     "text": [
      "Epoch No: 0, Loss: 57.02936787711152\n",
      "Epoch No: 1, Loss: 56.75452885570093\n",
      "Epoch No: 2, Loss: 56.59461238755182\n",
      "Epoch No: 3, Loss: 56.431879149262336\n",
      "Epoch No: 4, Loss: 56.2833652206788\n",
      "Epoch No: 5, Loss: 56.067437024057455\n",
      "Epoch No: 6, Loss: 55.99659634636352\n",
      "Epoch No: 7, Loss: 55.887461640008176\n",
      "Epoch No: 8, Loss: 55.66618743494662\n",
      "Epoch No: 9, Loss: 55.654762457811586\n",
      "Epoch No: 10, Loss: 55.475933931513964\n",
      "Epoch No: 11, Loss: 55.283220313011526\n",
      "Epoch No: 12, Loss: 55.29112935418204\n",
      "Epoch No: 13, Loss: 55.14657357991232\n",
      "Epoch No: 14, Loss: 55.039707028359175\n",
      "Epoch No: 15, Loss: 54.953191219341704\n",
      "Epoch No: 16, Loss: 54.77499589415145\n",
      "Epoch No: 17, Loss: 54.7007452546502\n",
      "Epoch No: 18, Loss: 54.6513819017369\n",
      "Epoch No: 19, Loss: 54.48472951790776\n",
      "Epoch No: 20, Loss: 54.43589531298935\n",
      "Epoch No: 21, Loss: 54.27809549729413\n",
      "Epoch No: 22, Loss: 54.13687139492398\n",
      "Epoch No: 23, Loss: 54.12769310085477\n",
      "Epoch No: 24, Loss: 53.99322972777935\n",
      "Epoch No: 25, Loss: 53.9018566185758\n",
      "Epoch No: 26, Loss: 53.843905703349286\n",
      "Epoch No: 27, Loss: 53.64007222498802\n",
      "Epoch No: 28, Loss: 53.5587201386792\n",
      "Epoch No: 29, Loss: 53.53472366627661\n",
      "Epoch No: 30, Loss: 53.4910024506675\n",
      "Epoch No: 31, Loss: 53.37612505171638\n",
      "Epoch No: 32, Loss: 53.27793571833404\n",
      "Epoch No: 33, Loss: 53.159414582750344\n",
      "Epoch No: 34, Loss: 53.15699783584678\n",
      "Epoch No: 35, Loss: 52.9473977203452\n",
      "Epoch No: 36, Loss: 52.886632761494646\n",
      "Epoch No: 37, Loss: 52.81763490631518\n",
      "Epoch No: 38, Loss: 52.79820868980963\n",
      "Epoch No: 39, Loss: 52.68228937441439\n",
      "Epoch No: 40, Loss: 52.526434391433725\n",
      "Epoch No: 41, Loss: 52.521354196818336\n",
      "Epoch No: 42, Loss: 52.468571882551146\n",
      "Epoch No: 43, Loss: 52.3453139608036\n",
      "Epoch No: 44, Loss: 52.26647444631176\n",
      "Epoch No: 45, Loss: 52.16497516797432\n",
      "Epoch No: 46, Loss: 52.14718877180123\n",
      "Epoch No: 47, Loss: 52.001525107834766\n",
      "Epoch No: 48, Loss: 51.9749338632028\n",
      "Epoch No: 49, Loss: 51.911496730684895\n"
     ]
    }
   ],
   "source": [
    "model.train(\n",
    "    inputs=x_train,\n",
    "    targets=y_train,\n",
    "    loss=MSE(),\n",
    "    optimizer=SGD(0.08),\n",
    "    epochs=50,\n",
    "    shuffle=True,\n",
    ")"
   ]
  },
  {
   "cell_type": "code",
   "execution_count": 61,
   "id": "b47c993f",
   "metadata": {},
   "outputs": [
    {
     "name": "stdout",
     "output_type": "stream",
     "text": [
      "Accuracy: 87.62%\n"
     ]
    }
   ],
   "source": [
    "correct = 0\n",
    "\n",
    "for x, y in zip(x_test, y_test):\n",
    "    predicted = model.predict(x)\n",
    "    predicted_index = np.argmax(predicted)\n",
    "    actual_index = np.argmax(y)\n",
    "    if predicted_index == actual_index:\n",
    "        correct += 1\n",
    "\n",
    "print(f\"Accuracy: {(correct / len(x_test)) * 100}%\")"
   ]
  },
  {
   "cell_type": "markdown",
   "id": "7221e42c",
   "metadata": {},
   "source": [
    "## We were able to achieve an accuracy of ~87% on the Classical MNIST problem with a simple neural network we've built using the QuarkNet library."
   ]
  },
  {
   "cell_type": "markdown",
   "id": "b40ab7a7",
   "metadata": {},
   "source": []
  }
 ],
 "metadata": {
  "kernelspec": {
   "display_name": "nn (3.13.3)",
   "language": "python",
   "name": "python3"
  },
  "language_info": {
   "codemirror_mode": {
    "name": "ipython",
    "version": 3
   },
   "file_extension": ".py",
   "mimetype": "text/x-python",
   "name": "python",
   "nbconvert_exporter": "python",
   "pygments_lexer": "ipython3",
   "version": "3.13.3"
  }
 },
 "nbformat": 4,
 "nbformat_minor": 5
}
